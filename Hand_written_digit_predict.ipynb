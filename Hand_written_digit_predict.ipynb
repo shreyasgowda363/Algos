{
  "nbformat": 4,
  "nbformat_minor": 0,
  "metadata": {
    "colab": {
      "provenance": [],
      "authorship_tag": "ABX9TyMc/szApCIgWfatdYxBq9HS",
      "include_colab_link": true
    },
    "kernelspec": {
      "name": "python3",
      "display_name": "Python 3"
    },
    "language_info": {
      "name": "python"
    }
  },
  "cells": [
    {
      "cell_type": "markdown",
      "metadata": {
        "id": "view-in-github",
        "colab_type": "text"
      },
      "source": [
        "<a href=\"https://colab.research.google.com/github/shreyasgowda363/Algos/blob/main/Hand_written_digit_predict.ipynb\" target=\"_parent\"><img src=\"https://colab.research.google.com/assets/colab-badge.svg\" alt=\"Open In Colab\"/></a>"
      ]
    },
    {
      "cell_type": "markdown",
      "source": [
        "**Hand Written Digit Prediction** \n"
      ],
      "metadata": {
        "id": "fNknQTxT46n0"
      }
    },
    {
      "cell_type": "markdown",
      "source": [
        "Objective : The objective of a handwritten digit prediction data science project is to develop a model that can accurately identify and classify handwritten digits. The project typically involves training a machine learning algorithm or a deep learning model on a dataset of labeled handwritten digit images.\n"
      ],
      "metadata": {
        "id": "96qxCJAT48ti"
      }
    },
    {
      "cell_type": "markdown",
      "source": [
        "Data Source: YBI Foundation Data Science projects youtube channel"
      ],
      "metadata": {
        "id": "fZEEkUf75V0T"
      }
    },
    {
      "cell_type": "markdown",
      "source": [
        "Import Library"
      ],
      "metadata": {
        "id": "KEamkOB86pZq"
      }
    },
    {
      "cell_type": "code",
      "source": [
        "# import library\n",
        "import pandas as pd"
      ],
      "metadata": {
        "id": "MDd0HNSi53o4"
      },
      "execution_count": 1,
      "outputs": []
    },
    {
      "cell_type": "code",
      "source": [
        "import numpy as np\n"
      ],
      "metadata": {
        "id": "DUl6t5Ot6CjY"
      },
      "execution_count": 2,
      "outputs": []
    },
    {
      "cell_type": "code",
      "source": [
        "import matplotlib.pyplot as plt\n"
      ],
      "metadata": {
        "id": "h3z_18i-6Xhr"
      },
      "execution_count": 3,
      "outputs": []
    },
    {
      "cell_type": "markdown",
      "source": [
        "Import Data"
      ],
      "metadata": {
        "id": "I4rMF1Xk6m_S"
      }
    },
    {
      "cell_type": "code",
      "source": [
        "from sklearn.datasets import load_digits"
      ],
      "metadata": {
        "id": "tRcEcTft6ui6"
      },
      "execution_count": 4,
      "outputs": []
    },
    {
      "cell_type": "code",
      "source": [
        "df = load_digits()"
      ],
      "metadata": {
        "id": "UixN4dsr7DwS"
      },
      "execution_count": 5,
      "outputs": []
    },
    {
      "cell_type": "code",
      "source": [
        "_, axes = plt.subplots(nrows=1, ncols=4, figsize=(10, 3))\n",
        "for ax, image, label1 in zip(axes, df.images, df.target):\n",
        "  ax.set_axis_off()\n",
        "  ax.imshow(image, cmap=plt.cm.gray_r, interpolation=\"nearest\")\n",
        "  ax.set_title(\"Training: %i\" % label1)"
      ],
      "metadata": {
        "colab": {
          "base_uri": "https://localhost:8080/",
          "height": 227
        },
        "id": "cbVZshVg7IR5",
        "outputId": "0c2993a9-c0d0-4f2d-b24f-335b1901dfd2"
      },
      "execution_count": 38,
      "outputs": [
        {
          "output_type": "display_data",
          "data": {
            "text/plain": [
              "<Figure size 1000x300 with 4 Axes>"
            ],
            "image/png": "[encoded data removed]"
          },
          "metadata": {}
        }
      ]
    },
    {
      "cell_type": "markdown",
      "source": [
        "Data processing"
      ],
      "metadata": {
        "id": "WFXEVZwK81Dm"
      }
    },
    {
      "cell_type": "code",
      "source": [
        "df.images.shape"
      ],
      "metadata": {
        "colab": {
          "base_uri": "https://localhost:8080/"
        },
        "id": "105vOC2w84Go",
        "outputId": "f97b28c4-a000-4c9e-dcee-84005a2cb921"
      },
      "execution_count": 10,
      "outputs": [
        {
          "output_type": "execute_result",
          "data": {
            "text/plain": [
              "(1797, 8, 8)"
            ]
          },
          "metadata": {},
          "execution_count": 10
        }
      ]
    },
    {
      "cell_type": "code",
      "source": [
        "df.images[0]"
      ],
      "metadata": {
        "colab": {
          "base_uri": "https://localhost:8080/"
        },
        "id": "cy7uDvVg9FDg",
        "outputId": "bd3acf70-e5d1-4ecb-bb47-cef963989eb2"
      },
      "execution_count": 11,
      "outputs": [
        {
          "output_type": "execute_result",
          "data": {
            "text/plain": [
              "array([[ 0.,  0.,  5., 13.,  9.,  1.,  0.,  0.],\n",
              "       [ 0.,  0., 13., 15., 10., 15.,  5.,  0.],\n",
              "       [ 0.,  3., 15.,  2.,  0., 11.,  8.,  0.],\n",
              "       [ 0.,  4., 12.,  0.,  0.,  8.,  8.,  0.],\n",
              "       [ 0.,  5.,  8.,  0.,  0.,  9.,  8.,  0.],\n",
              "       [ 0.,  4., 11.,  0.,  1., 12.,  7.,  0.],\n",
              "       [ 0.,  2., 14.,  5., 10., 12.,  0.,  0.],\n",
              "       [ 0.,  0.,  6., 13., 10.,  0.,  0.,  0.]])"
            ]
          },
          "metadata": {},
          "execution_count": 11
        }
      ]
    },
    {
      "cell_type": "code",
      "source": [
        "df.images[0].shape"
      ],
      "metadata": {
        "colab": {
          "base_uri": "https://localhost:8080/"
        },
        "id": "dzKZ84ea9JSm",
        "outputId": "97fbdd34-be28-4ebf-dbb2-8344442b4013"
      },
      "execution_count": 12,
      "outputs": [
        {
          "output_type": "execute_result",
          "data": {
            "text/plain": [
              "(8, 8)"
            ]
          },
          "metadata": {},
          "execution_count": 12
        }
      ]
    },
    {
      "cell_type": "code",
      "source": [
        "len(df.images)"
      ],
      "metadata": {
        "colab": {
          "base_uri": "https://localhost:8080/"
        },
        "id": "i4l05vfu9NaM",
        "outputId": "777bfb98-7d6c-4d5f-ec5d-bcf85a39b586"
      },
      "execution_count": 13,
      "outputs": [
        {
          "output_type": "execute_result",
          "data": {
            "text/plain": [
              "1797"
            ]
          },
          "metadata": {},
          "execution_count": 13
        }
      ]
    },
    {
      "cell_type": "code",
      "source": [
        "n_samples = len(df.images)\n",
        "data = df.images.reshape((n_samples, -1))"
      ],
      "metadata": {
        "id": "KYTog8jd9Y_O"
      },
      "execution_count": 14,
      "outputs": []
    },
    {
      "cell_type": "code",
      "source": [
        "data[0]"
      ],
      "metadata": {
        "colab": {
          "base_uri": "https://localhost:8080/"
        },
        "id": "Ec5MZC_q9n8V",
        "outputId": "201c1d45-1297-41b6-e6cf-d9310b281192"
      },
      "execution_count": 15,
      "outputs": [
        {
          "output_type": "execute_result",
          "data": {
            "text/plain": [
              "array([ 0.,  0.,  5., 13.,  9.,  1.,  0.,  0.,  0.,  0., 13., 15., 10.,\n",
              "       15.,  5.,  0.,  0.,  3., 15.,  2.,  0., 11.,  8.,  0.,  0.,  4.,\n",
              "       12.,  0.,  0.,  8.,  8.,  0.,  0.,  5.,  8.,  0.,  0.,  9.,  8.,\n",
              "        0.,  0.,  4., 11.,  0.,  1., 12.,  7.,  0.,  0.,  2., 14.,  5.,\n",
              "       10., 12.,  0.,  0.,  0.,  0.,  6., 13., 10.,  0.,  0.,  0.])"
            ]
          },
          "metadata": {},
          "execution_count": 15
        }
      ]
    },
    {
      "cell_type": "code",
      "source": [
        "data[0].shape"
      ],
      "metadata": {
        "colab": {
          "base_uri": "https://localhost:8080/"
        },
        "id": "8r3Ex3f69rMO",
        "outputId": "d6d7edd7-b238-4070-c660-4d4577771912"
      },
      "execution_count": 16,
      "outputs": [
        {
          "output_type": "execute_result",
          "data": {
            "text/plain": [
              "(64,)"
            ]
          },
          "metadata": {},
          "execution_count": 16
        }
      ]
    },
    {
      "cell_type": "code",
      "source": [
        "data.shape"
      ],
      "metadata": {
        "colab": {
          "base_uri": "https://localhost:8080/"
        },
        "id": "HjUcDiQ_9t7l",
        "outputId": "50f2d6f5-a6d8-4ffa-80e0-d62bdefd1399"
      },
      "execution_count": 17,
      "outputs": [
        {
          "output_type": "execute_result",
          "data": {
            "text/plain": [
              "(1797, 64)"
            ]
          },
          "metadata": {},
          "execution_count": 17
        }
      ]
    },
    {
      "cell_type": "markdown",
      "source": [
        "Scaling Image Data"
      ],
      "metadata": {
        "id": "060M5VOh94Ve"
      }
    },
    {
      "cell_type": "code",
      "source": [
        "data.min()"
      ],
      "metadata": {
        "colab": {
          "base_uri": "https://localhost:8080/"
        },
        "id": "eNbQ2_-798Kv",
        "outputId": "398c0cbd-e8ec-4b08-c2fe-bbeeb13649fb"
      },
      "execution_count": 18,
      "outputs": [
        {
          "output_type": "execute_result",
          "data": {
            "text/plain": [
              "0.0"
            ]
          },
          "metadata": {},
          "execution_count": 18
        }
      ]
    },
    {
      "cell_type": "code",
      "source": [
        "data.max()"
      ],
      "metadata": {
        "colab": {
          "base_uri": "https://localhost:8080/"
        },
        "id": "hRjoqwYa9_TL",
        "outputId": "513f565f-d986-43b0-9c83-4926c3a6a206"
      },
      "execution_count": 19,
      "outputs": [
        {
          "output_type": "execute_result",
          "data": {
            "text/plain": [
              "16.0"
            ]
          },
          "metadata": {},
          "execution_count": 19
        }
      ]
    },
    {
      "cell_type": "code",
      "source": [
        "data = data/16"
      ],
      "metadata": {
        "id": "bLsoEHUi-DFr"
      },
      "execution_count": 20,
      "outputs": []
    },
    {
      "cell_type": "code",
      "source": [
        "data.min()"
      ],
      "metadata": {
        "colab": {
          "base_uri": "https://localhost:8080/"
        },
        "id": "v4ScTQzZ-Gl0",
        "outputId": "3e06dbfe-9ba6-4987-dbdf-2b1947fc8262"
      },
      "execution_count": 21,
      "outputs": [
        {
          "output_type": "execute_result",
          "data": {
            "text/plain": [
              "0.0"
            ]
          },
          "metadata": {},
          "execution_count": 21
        }
      ]
    },
    {
      "cell_type": "code",
      "source": [
        "data[0]"
      ],
      "metadata": {
        "colab": {
          "base_uri": "https://localhost:8080/"
        },
        "id": "izTyUGYM-Kc8",
        "outputId": "9bfeb2fa-90f9-4dc2-f81d-30074c2259b3"
      },
      "execution_count": 22,
      "outputs": [
        {
          "output_type": "execute_result",
          "data": {
            "text/plain": [
              "array([0.    , 0.    , 0.3125, 0.8125, 0.5625, 0.0625, 0.    , 0.    ,\n",
              "       0.    , 0.    , 0.8125, 0.9375, 0.625 , 0.9375, 0.3125, 0.    ,\n",
              "       0.    , 0.1875, 0.9375, 0.125 , 0.    , 0.6875, 0.5   , 0.    ,\n",
              "       0.    , 0.25  , 0.75  , 0.    , 0.    , 0.5   , 0.5   , 0.    ,\n",
              "       0.    , 0.3125, 0.5   , 0.    , 0.    , 0.5625, 0.5   , 0.    ,\n",
              "       0.    , 0.25  , 0.6875, 0.    , 0.0625, 0.75  , 0.4375, 0.    ,\n",
              "       0.    , 0.125 , 0.875 , 0.3125, 0.625 , 0.75  , 0.    , 0.    ,\n",
              "       0.    , 0.    , 0.375 , 0.8125, 0.625 , 0.    , 0.    , 0.    ])"
            ]
          },
          "metadata": {},
          "execution_count": 22
        }
      ]
    },
    {
      "cell_type": "markdown",
      "source": [
        "Train Test Split **Data** "
      ],
      "metadata": {
        "id": "sZWpQQ9m-XBf"
      }
    },
    {
      "cell_type": "code",
      "source": [
        "from sklearn.model_selection import train_test_split\n"
      ],
      "metadata": {
        "id": "mTGAt6qE-c4_"
      },
      "execution_count": 23,
      "outputs": []
    },
    {
      "cell_type": "code",
      "source": [
        "X_train, X_test, y_train, y_test = train_test_split(data, df.target, test_size=0.3)"
      ],
      "metadata": {
        "id": "lEBZG5q7-tTf"
      },
      "execution_count": 24,
      "outputs": []
    },
    {
      "cell_type": "code",
      "source": [
        "X_train.shape, X_test.shape, y_train.shape, y_test.shape"
      ],
      "metadata": {
        "colab": {
          "base_uri": "https://localhost:8080/"
        },
        "id": "_AD1lIo__CNU",
        "outputId": "335dc1c9-8f34-4369-a793-4e522aef5dcd"
      },
      "execution_count": 26,
      "outputs": [
        {
          "output_type": "execute_result",
          "data": {
            "text/plain": [
              "((1257, 64), (540, 64), (1257,), (540,))"
            ]
          },
          "metadata": {},
          "execution_count": 26
        }
      ]
    },
    {
      "cell_type": "markdown",
      "source": [
        "Random forest model"
      ],
      "metadata": {
        "id": "t2Q3x6mo_bxm"
      }
    },
    {
      "cell_type": "code",
      "source": [
        "from sklearn.ensemble import RandomForestClassifier"
      ],
      "metadata": {
        "id": "AJKIFRI7_TFA"
      },
      "execution_count": 27,
      "outputs": []
    },
    {
      "cell_type": "code",
      "source": [
        "rf = RandomForestClassifier()"
      ],
      "metadata": {
        "id": "bVT4X4Am_tou"
      },
      "execution_count": 28,
      "outputs": []
    },
    {
      "cell_type": "code",
      "source": [
        "rf.fit(X_train, y_train)"
      ],
      "metadata": {
        "colab": {
          "base_uri": "https://localhost:8080/",
          "height": 51
        },
        "id": "PtLezsBA_xbX",
        "outputId": "239b355f-3c63-41d1-8766-6258f13251dc"
      },
      "execution_count": 29,
      "outputs": [
        {
          "output_type": "execute_result",
          "data": {
            "text/plain": [
              "RandomForestClassifier()"
            ],
            "text/html": [
              "<style>#sk-container-id-1 {color: black;background-color: white;}#sk-container-id-1 pre{padding: 0;}#sk-container-id-1 div.sk-toggleable {background-color: white;}#sk-container-id-1 label.sk-toggleable__label {cursor: pointer;display: block;width: 100%;margin-bottom: 0;padding: 0.3em;box-sizing: border-box;text-align: center;}#sk-container-id-1 label.sk-toggleable__label-arrow:before {content: \"▸\";float: left;margin-right: 0.25em;color: #696969;}#sk-container-id-1 label.sk-toggleable__label-arrow:hover:before {color: black;}#sk-container-id-1 div.sk-estimator:hover label.sk-toggleable__label-arrow:before {color: black;}#sk-container-id-1 div.sk-toggleable__content {max-height: 0;max-width: 0;overflow: hidden;text-align: left;background-color: #f0f8ff;}#sk-container-id-1 div.sk-toggleable__content pre {margin: 0.2em;color: black;border-radius: 0.25em;background-color: #f0f8ff;}#sk-container-id-1 input.sk-toggleable__control:checked~div.sk-toggleable__content {max-height: 200px;max-width: 100%;overflow: auto;}#sk-container-id-1 input.sk-toggleable__control:checked~label.sk-toggleable__label-arrow:before {content: \"▾\";}#sk-container-id-1 div.sk-estimator input.sk-toggleable__control:checked~label.sk-toggleable__label {background-color: #d4ebff;}#sk-container-id-1 div.sk-label input.sk-toggleable__control:checked~label.sk-toggleable__label {background-color: #d4ebff;}#sk-container-id-1 input.sk-hidden--visually {border: 0;clip: rect(1px 1px 1px 1px);clip: rect(1px, 1px, 1px, 1px);height: 1px;margin: -1px;overflow: hidden;padding: 0;position: absolute;width: 1px;}#sk-container-id-1 div.sk-estimator {font-family: monospace;background-color: #f0f8ff;border: 1px dotted black;border-radius: 0.25em;box-sizing: border-box;margin-bottom: 0.5em;}#sk-container-id-1 div.sk-estimator:hover {background-color: #d4ebff;}#sk-container-id-1 div.sk-parallel-item::after {content: \"\";width: 100%;border-bottom: 1px solid gray;flex-grow: 1;}#sk-container-id-1 div.sk-label:hover label.sk-toggleable__label {background-color: #d4ebff;}#sk-container-id-1 div.sk-serial::before {content: \"\";position: absolute;border-left: 1px solid gray;box-sizing: border-box;top: 0;bottom: 0;left: 50%;z-index: 0;}#sk-container-id-1 div.sk-serial {display: flex;flex-direction: column;align-items: center;background-color: white;padding-right: 0.2em;padding-left: 0.2em;position: relative;}#sk-container-id-1 div.sk-item {position: relative;z-index: 1;}#sk-container-id-1 div.sk-parallel {display: flex;align-items: stretch;justify-content: center;background-color: white;position: relative;}#sk-container-id-1 div.sk-item::before, #sk-container-id-1 div.sk-parallel-item::before {content: \"\";position: absolute;border-left: 1px solid gray;box-sizing: border-box;top: 0;bottom: 0;left: 50%;z-index: -1;}#sk-container-id-1 div.sk-parallel-item {display: flex;flex-direction: column;z-index: 1;position: relative;background-color: white;}#sk-container-id-1 div.sk-parallel-item:first-child::after {align-self: flex-end;width: 50%;}#sk-container-id-1 div.sk-parallel-item:last-child::after {align-self: flex-start;width: 50%;}#sk-container-id-1 div.sk-parallel-item:only-child::after {width: 0;}#sk-container-id-1 div.sk-dashed-wrapped {border: 1px dashed gray;margin: 0 0.4em 0.5em 0.4em;box-sizing: border-box;padding-bottom: 0.4em;background-color: white;}#sk-container-id-1 div.sk-label label {font-family: monospace;font-weight: bold;display: inline-block;line-height: 1.2em;}#sk-container-id-1 div.sk-label-container {text-align: center;}#sk-container-id-1 div.sk-container {/* jupyter's `normalize.less` sets `[hidden] { display: none; }` but bootstrap.min.css set `[hidden] { display: none !important; }` so we also need the `!important` here to be able to override the default hidden behavior on the sphinx rendered scikit-learn.org. See: https://github.com/scikit-learn/scikit-learn/issues/21755 */display: inline-block !important;position: relative;}#sk-container-id-1 div.sk-text-repr-fallback {display: none;}</style><div id=\"sk-container-id-1\" class=\"sk-top-container\"><div class=\"sk-text-repr-fallback\"><pre>RandomForestClassifier()</pre><b>In a Jupyter environment, please rerun this cell to show the HTML representation or trust the notebook. <br />On GitHub, the HTML representation is unable to render, please try loading this page with nbviewer.org.</b></div><div class=\"sk-container\" hidden><div class=\"sk-item\"><div class=\"sk-estimator sk-toggleable\"><input class=\"sk-toggleable__control sk-hidden--visually\" id=\"sk-estimator-id-1\" type=\"checkbox\" checked><label for=\"sk-estimator-id-1\" class=\"sk-toggleable__label sk-toggleable__label-arrow\">RandomForestClassifier</label><div class=\"sk-toggleable__content\"><pre>RandomForestClassifier()</pre></div></div></div></div></div>"
            ]
          },
          "metadata": {},
          "execution_count": 29
        }
      ]
    },
    {
      "cell_type": "markdown",
      "source": [
        "Predict Test Data"
      ],
      "metadata": {
        "id": "wTCa0nclADVW"
      }
    },
    {
      "cell_type": "code",
      "source": [
        "y_pred = rf.predict(X_test)"
      ],
      "metadata": {
        "id": "w2Sbw_sfAApk"
      },
      "execution_count": 31,
      "outputs": []
    },
    {
      "cell_type": "code",
      "source": [
        "y_pred"
      ],
      "metadata": {
        "colab": {
          "base_uri": "https://localhost:8080/"
        },
        "id": "Hw1bvnGxAPQ3",
        "outputId": "2184602c-174a-4d7b-eadb-dd70aa16811e"
      },
      "execution_count": 32,
      "outputs": [
        {
          "output_type": "execute_result",
          "data": {
            "text/plain": [
              "array([9, 2, 2, 2, 8, 4, 3, 9, 8, 0, 9, 9, 2, 6, 7, 0, 3, 0, 3, 7, 9, 4,\n",
              "       1, 6, 1, 5, 8, 2, 5, 6, 1, 0, 4, 1, 8, 2, 6, 0, 3, 5, 4, 1, 0, 0,\n",
              "       4, 9, 6, 1, 0, 6, 5, 0, 9, 1, 9, 7, 9, 6, 9, 3, 7, 6, 4, 5, 6, 5,\n",
              "       0, 6, 3, 9, 3, 5, 5, 0, 9, 6, 5, 1, 1, 1, 6, 3, 4, 9, 1, 1, 0, 7,\n",
              "       7, 5, 7, 5, 7, 9, 4, 8, 7, 7, 3, 7, 5, 2, 8, 0, 6, 6, 5, 6, 9, 1,\n",
              "       6, 5, 7, 1, 3, 0, 8, 3, 3, 4, 8, 2, 4, 8, 0, 0, 6, 9, 6, 5, 8, 4,\n",
              "       4, 3, 6, 7, 6, 8, 5, 5, 2, 4, 4, 0, 4, 9, 8, 5, 7, 2, 7, 6, 6, 5,\n",
              "       1, 3, 3, 4, 2, 5, 8, 6, 3, 2, 9, 3, 9, 2, 5, 4, 4, 4, 1, 9, 6, 5,\n",
              "       0, 8, 6, 1, 8, 5, 8, 2, 4, 3, 0, 3, 5, 1, 5, 7, 3, 8, 8, 4, 8, 6,\n",
              "       2, 0, 4, 9, 5, 8, 0, 2, 4, 5, 0, 9, 1, 8, 5, 2, 2, 0, 4, 4, 5, 9,\n",
              "       9, 2, 0, 3, 2, 4, 6, 2, 0, 4, 4, 8, 1, 6, 7, 6, 7, 7, 1, 8, 7, 7,\n",
              "       8, 4, 7, 1, 8, 9, 6, 3, 2, 6, 1, 8, 8, 2, 2, 7, 9, 3, 1, 6, 3, 6,\n",
              "       8, 3, 4, 5, 9, 7, 1, 5, 6, 9, 2, 7, 8, 3, 5, 7, 5, 9, 3, 3, 0, 7,\n",
              "       0, 1, 4, 4, 8, 3, 6, 0, 2, 9, 3, 7, 7, 6, 6, 3, 6, 6, 4, 0, 7, 9,\n",
              "       2, 8, 6, 6, 3, 0, 7, 8, 4, 6, 4, 0, 1, 7, 1, 0, 0, 7, 5, 0, 0, 2,\n",
              "       6, 9, 6, 9, 8, 3, 9, 0, 1, 0, 5, 0, 0, 2, 4, 9, 1, 1, 2, 8, 6, 2,\n",
              "       8, 8, 5, 1, 3, 9, 2, 1, 7, 3, 1, 8, 7, 3, 0, 3, 0, 6, 2, 8, 0, 1,\n",
              "       4, 6, 2, 9, 1, 4, 8, 3, 7, 1, 8, 9, 4, 1, 1, 4, 5, 9, 4, 5, 8, 4,\n",
              "       6, 8, 6, 1, 8, 6, 8, 6, 3, 4, 7, 5, 8, 7, 0, 5, 8, 6, 6, 7, 7, 0,\n",
              "       5, 9, 0, 4, 7, 4, 4, 2, 4, 1, 1, 6, 3, 6, 6, 1, 8, 0, 9, 1, 4, 0,\n",
              "       2, 7, 8, 4, 4, 4, 3, 3, 5, 2, 3, 9, 2, 7, 8, 2, 2, 0, 9, 2, 5, 5,\n",
              "       6, 7, 0, 8, 3, 7, 3, 9, 8, 8, 3, 0, 9, 9, 8, 0, 5, 3, 9, 9, 9, 9,\n",
              "       6, 9, 6, 6, 9, 6, 9, 5, 9, 6, 2, 6, 7, 3, 0, 7, 9, 9, 3, 5, 2, 2,\n",
              "       7, 9, 8, 6, 3, 2, 7, 5, 2, 5, 9, 7, 4, 2, 1, 3, 1, 0, 3, 7, 8, 2,\n",
              "       1, 9, 4, 9, 3, 8, 1, 9, 3, 7, 5, 9])"
            ]
          },
          "metadata": {},
          "execution_count": 32
        }
      ]
    },
    {
      "cell_type": "markdown",
      "source": [
        "Model Accuracy"
      ],
      "metadata": {
        "id": "q6nDZgO5Aa-y"
      }
    },
    {
      "cell_type": "code",
      "source": [
        "from sklearn.metrics import confusion_matrix, classification_report"
      ],
      "metadata": {
        "id": "YXkKN8k3AZLh"
      },
      "execution_count": 33,
      "outputs": []
    },
    {
      "cell_type": "code",
      "source": [
        "confusion_matrix(y_test, y_pred)"
      ],
      "metadata": {
        "colab": {
          "base_uri": "https://localhost:8080/"
        },
        "id": "PuMYEtp-AoYO",
        "outputId": "d9502986-ec7d-4713-dbaf-a24fcd1213f5"
      },
      "execution_count": 39,
      "outputs": [
        {
          "output_type": "execute_result",
          "data": {
            "text/plain": [
              "array([[53,  0,  0,  0,  0,  0,  0,  0,  0,  0],\n",
              "       [ 0, 45,  0,  0,  0,  0,  0,  0,  0,  0],\n",
              "       [ 0,  0, 47,  0,  0,  0,  0,  0,  0,  0],\n",
              "       [ 0,  0,  0, 54,  0,  3,  0,  1,  1,  0],\n",
              "       [ 0,  1,  0,  0, 53,  0,  0,  0,  0,  0],\n",
              "       [ 0,  0,  0,  0,  0, 46,  1,  0,  0,  3],\n",
              "       [ 0,  0,  0,  0,  0,  0, 63,  0,  0,  0],\n",
              "       [ 0,  0,  0,  0,  0,  0,  0, 51,  0,  1],\n",
              "       [ 0,  1,  1,  0,  0,  0,  0,  0, 54,  1],\n",
              "       [ 0,  1,  0,  0,  0,  1,  0,  0,  1, 57]])"
            ]
          },
          "metadata": {},
          "execution_count": 39
        }
      ]
    },
    {
      "cell_type": "code",
      "source": [
        "print(classification_report(y_test, y_pred))"
      ],
      "metadata": {
        "colab": {
          "base_uri": "https://localhost:8080/"
        },
        "id": "SguDTILlBPqE",
        "outputId": "941eae97-d187-4a35-d9f3-a9424dac22a1"
      },
      "execution_count": 41,
      "outputs": [
        {
          "output_type": "stream",
          "name": "stdout",
          "text": [
            "              precision    recall  f1-score   support\n",
            "\n",
            "           0       1.00      1.00      1.00        53\n",
            "           1       0.94      1.00      0.97        45\n",
            "           2       0.98      1.00      0.99        47\n",
            "           3       1.00      0.92      0.96        59\n",
            "           4       1.00      0.98      0.99        54\n",
            "           5       0.92      0.92      0.92        50\n",
            "           6       0.98      1.00      0.99        63\n",
            "           7       0.98      0.98      0.98        52\n",
            "           8       0.96      0.95      0.96        57\n",
            "           9       0.92      0.95      0.93        60\n",
            "\n",
            "    accuracy                           0.97       540\n",
            "   macro avg       0.97      0.97      0.97       540\n",
            "weighted avg       0.97      0.97      0.97       540\n",
            "\n"
          ]
        }
      ]
    },
    {
      "cell_type": "markdown",
      "source": [
        "Explanation : This project is based on Hand Written digit predit"
      ],
      "metadata": {
        "id": "eSXERm5eBtFV"
      }
    }
  ]
}